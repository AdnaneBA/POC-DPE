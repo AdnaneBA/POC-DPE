{
 "cells": [
  {
   "cell_type": "markdown",
   "metadata": {},
   "source": [
    "### Clean the data"
   ]
  },
  {
   "cell_type": "markdown",
   "metadata": {},
   "source": [
    "imports"
   ]
  },
  {
   "cell_type": "code",
   "execution_count": 1,
   "metadata": {},
   "outputs": [],
   "source": [
    "import os\n",
    "import pandas as pd\n",
    "from sqlalchemy import create_engine\n",
    "from dotenv import load_dotenv\n"
   ]
  },
  {
   "cell_type": "markdown",
   "metadata": {},
   "source": [
    "## Connexion a la database"
   ]
  },
  {
   "cell_type": "code",
   "execution_count": 2,
   "metadata": {},
   "outputs": [
    {
     "name": "stdout",
     "output_type": "stream",
     "text": [
      "Connexion réussie\n"
     ]
    }
   ],
   "source": [
    "load_dotenv()\n",
    "database_url = os.getenv(\"DATABASE_URL\")\n",
    "engine = create_engine(database_url)\n",
    "print(\"Connexion réussie\")"
   ]
  },
  {
   "cell_type": "markdown",
   "metadata": {},
   "source": [
    "## Dossier contenant mes fichiers csv"
   ]
  },
  {
   "cell_type": "code",
   "execution_count": 3,
   "metadata": {},
   "outputs": [],
   "source": [
    "csv_path = \"csv/csv_used/dpe03existant.csv\"\n",
    "csv_folder = \"csv/csv_used\""
   ]
  },
  {
   "cell_type": "code",
   "execution_count": 4,
   "metadata": {},
   "outputs": [
    {
     "name": "stdout",
     "output_type": "stream",
     "text": [
      "      numero_dpe date_derniere_modification_dpe date_visite_diagnostiqueur  \\\n",
      "0  2229E0488205H                     2024-12-30                 2022-03-08   \n",
      "1  2247E1057848I                     2024-12-30                 2022-05-11   \n",
      "2  2275E0252200Y                     2024-06-25                 2022-02-02   \n",
      "3  2233E0287314W                     2024-12-12                 2022-02-10   \n",
      "4  2269E0225484E                     2024-12-30                 2022-02-03   \n",
      "\n",
      "  date_etablissement_dpe date_reception_dpe date_fin_validite_dpe  \\\n",
      "0             2022-03-09         2022-03-10            2032-03-08   \n",
      "1             2022-05-15         2022-05-16            2032-05-14   \n",
      "2             2022-02-07         2022-02-08            2032-02-06   \n",
      "3             2022-02-11         2022-02-14            2032-02-10   \n",
      "4             2022-02-03         2022-02-04            2032-02-02   \n",
      "\n",
      "   numero_dpe_remplace  numero_dpe_immeuble_associe        id_rnb  \\\n",
      "0                  NaN                          NaN  85EVGZ8WBSY7   \n",
      "1                  NaN                          NaN  DFJBMET5XWBY   \n",
      "2                  NaN                          NaN           NaN   \n",
      "3                  NaN                          NaN  34DQ9W3J8YPE   \n",
      "4                  NaN                          NaN  2QQA8KQPM7JT   \n",
      "\n",
      "   numero_rpls_logement  ...  description_generateur_froid surface_climatisee  \\\n",
      "0                   NaN  ...                           NaN                NaN   \n",
      "1                   NaN  ...                           NaN                NaN   \n",
      "2                   NaN  ...                           NaN                NaN   \n",
      "3                   NaN  ...                           NaN                NaN   \n",
      "4                   NaN  ...                           NaN                NaN   \n",
      "\n",
      "   conso_refroidissement_annuel                            categorie_enr  \\\n",
      "0                           NaN                                      NaN   \n",
      "1                           NaN                        chauffage au bois   \n",
      "2                           NaN  rÃ©seau de chaleur ou de froid vertueux   \n",
      "3                           NaN                                      NaN   \n",
      "4                           NaN                                      NaN   \n",
      "\n",
      "  systeme_production_electricite_origine_renouvelable presence_production_pv  \\\n",
      "0                                                NaN                     NaN   \n",
      "1                                                NaN                     NaN   \n",
      "2                                                NaN                     NaN   \n",
      "3                                                NaN                     NaN   \n",
      "4                                                NaN                     NaN   \n",
      "\n",
      "  surface_totale_capteurs_pv  nombre_module  \\\n",
      "0                        NaN            NaN   \n",
      "1                        NaN            NaN   \n",
      "2                        NaN            NaN   \n",
      "3                        NaN            NaN   \n",
      "4                        NaN            NaN   \n",
      "\n",
      "  production_electricite_pv_kwhep_par_an electricite_pv_autoconsommee  \n",
      "0                                      0                          NaN  \n",
      "1                                      0                          NaN  \n",
      "2                                      0                          NaN  \n",
      "3                                      0                          NaN  \n",
      "4                                      0                          NaN  \n",
      "\n",
      "[5 rows x 224 columns]\n",
      "224\n"
     ]
    }
   ],
   "source": [
    "df_preview = pd.read_csv(csv_path, sep=',', quotechar='\"', encoding='ISO-8859-1', nrows=5)\n",
    "print(df_preview)\n",
    "print(len(df_preview.columns))"
   ]
  },
  {
   "cell_type": "code",
   "execution_count": 8,
   "metadata": {},
   "outputs": [
    {
     "name": "stdout",
     "output_type": "stream",
     "text": [
      "table1\n",
      "Importing dpe03existant.csv into table table1...\n"
     ]
    }
   ],
   "source": [
    "from sqlalchemy import String\n",
    "import ast\n",
    "\n",
    "def parse_list_string(val):\n",
    "    try:\n",
    "        if pd.notnull(val):\n",
    "            val = val.replace('\\\\/', '/')  # Évite les erreurs d'échappement invalides\n",
    "            return ast.literal_eval(val)\n",
    "        return None\n",
    "    except Exception as e:\n",
    "        print(f\"Erreur de parsing pour : {val} -> {e}\")\n",
    "        return None\n",
    "\n",
    "\n",
    "\n",
    "for file in os.listdir(csv_folder):\n",
    "    if file.endswith(\".csv\") and file == \"dpe03existant.csv\":\n",
    "        table_name = \"table1\"\n",
    "        print(table_name)\n",
    "        csv_path = os.path.join(csv_folder, file)\n",
    "        print(f\"Importing {file} into table {table_name}...\")\n",
    "        try:\n",
    "            ad = pd.read_csv(csv_path, sep=',', nrows=10000, low_memory=False)\n",
    "            ad.to_sql(table_name, engine, if_exists=\"append\", index=False)\n",
    "        except Exception as e:\n",
    "            print(f\"Erreur pour {file} : {e}\")\n"
   ]
  },
  {
   "cell_type": "code",
   "execution_count": 9,
   "metadata": {},
   "outputs": [
    {
     "name": "stdout",
     "output_type": "stream",
     "text": [
      "tablefull\n",
      "Importing dpe03existant.csv into table tablefull...\n",
      "Erreur pour dpe03existant.csv : (psycopg2.errors.DiskFull) could not extend file \"base/16555/26434159.15\": No space left on device\n",
      "HINT:  Check free disk space.\n",
      "\n",
      "[SQL: INSERT INTO tablefull (numero_dpe, date_derniere_modification_dpe, date_visite_diagnostiqueur, date_etablissement_dpe, date_reception_dpe, date_fin_validite_dpe, numero_dpe_remplace, numero_dpe_immeuble_associe, id_rnb, numero_rpls_logement, numero_i ... 1208926 characters truncated ... dule__144)s, %(production_electricite_pv_kwhep_par_an__144)s, %(electricite_pv_autoconsommee__144)s)]\n",
      "[parameters: {'apport_solaire_saison_chauffe__0': 842.5, 'facteur_couverture_solaire_saisi_installation_chauffage_n1__0': None, 'conso_refroidissement_ef__0': 0.0, 'facteur_couverture_solaire_installation_chauffage_n1__0': None, 'facteur_couverture_solaire_n1__0': None, 'surface_chauffee_installation_chauffage_n1__0': 42.0, 'emission_ges_chauffage_energie_n3__0': None, 'conso_chauffage_generateur_n2_installation_n1__0': None, 'description_installation_chauffage_n2__0': None, 'type_energie_generateur_n2_ecs_n1__0': None, 'nombre_module__0': None, 'description_generateur_froid__0': None, 'conso_5_usages_par_m2_ef__0': 135.0, 'numero_dpe_remplace__0': None, 'description_installation_ecs_n1__0': 'Ballon électrique à accumulation vertical (catégorie C ou 3 étoiles), contenance ballon 100 L', 'type_generateur_n2_installation_n1__0': None, 'date_fin_validite_dpe__0': '2034-06-15', 'deperditions_planchers_hauts__0': 5.3, 'cout_chauffage_energie_n1__0': 683.5, 'coordonnee_cartographique_y_ban__0': 6747822.6, 'qualite_isolation_murs__0': 'bonne', 'besoin_ecs__0': 1061.9, 'cout_ecs_energie_n1__0': 248.7, 'cout_chauffage_energie_n2__0': None, 'emission_ges_5_usages__0': 424.3, 'type_energie_n3__0': None, 'facteur_couverture_solaire_saisi_n1__0': None, 'emission_ges_eclairage__0': 5.3, 'numero_dpe_immeuble_associe__0': None, 'version_dpe__0': 2.3, 'type_energie_n2__0': None, 'coordonnee_cartographique_x_ban__0': 1024497.33, 'presence_brasseur_air__0': 0.0, 'configuration_installation_chauffage_n2__0': None, 'inertie_lourde__0': 0.0, 'emission_ges_5_usages_par_m2__0': 10.0, 'facteur_couverture_solaire_saisi_installation_chauffage_n2__0': None, 'type_energie_n1__0': 'Électricité', 'conso_eclairage_ef__0': 76.5, 'configuration_installation_ecs_n1__0': \"Un seul système d'ECS sans solaire\", 'indicateur_confort_ete__0': 'insuffisant', 'periode_installation_generateur_froid__0': None, 'conso_chauffage_ep__0': 9040.2, 'deperditions_renouvellement_air__0': 44.5, 'type_energie_generateur_n1_installation_n1__0': 'Électricité', 'adresse_brut__0': '21 RUE ENGEL DOLLFUS', 'type_generateur_n1_installation_n2__0': None, 'code_postal_brut__0': 68200, '_nombre_logements_desservis_par_installation_ecs_n1__0': 1.0, 'zone_climatique__0': 'H1b' ... 32380 parameters truncated ... 'complement_adresse_batiment__144': None, 'description_generateur_chauffage_n2_installation_n1__144': None, 'date_reception_dpe__144': '2024-06-04', 'configuration_installation_chauffage_n1__144': 'Installation de chauffage simple', 'usage_generateur_n2_installation_n2__144': None, 'date_installation_generateur_n2_ecs_n1__144': None, 'cout_total_5_usages_energie_n3__144': None, 'type_energie_generateur_n2_installation_n2__144': None, 'conso_ef_installation_ecs_n1__144': 49673.8, 'usage_generateur_n2_installation_n1__144': None, 'besoin_ecs_logement__144': None, 'description_generateur_chauffage_n1_installation_n2__144': None, 'emission_ges_ecs_energie_n3__144': None, 'conso_refroidissement_ep__144': 0.0, 'methode_application_dpe__144': 'dpe appartement généré à partir des données DPE immeuble', 'nom_residence__144': None, 'nom_commune_brut__144': 'Aulnay-Sous-Bois', 'code_insee_ban__144': '93005', 'qualite_isolation_plancher_bas__144': 'bonne', 'cout_ecs_energie_n3__144': None, 'conso_ecs_ep__144': 2553.6, 'type_installation_solaire_n1__144': 'Non affecté', 'annee_construction__144': 2009.0, 'surface_ventilee__144': 56.5, 'deperditions_murs__144': 237.1, 'conso_chauffage_ef__144': 3331.6, 'qualite_isolation_plancher_haut_toit_terrasse__144': None, 'emission_ges_5_usages_energie_n1__144': 0.0, 'cout_eclairage__144': 106.8, 'type_generateur_n1_ecs_n1__144': 'réseau de chaleur non répertorié ou inconnu', 'numero_voie_ban__144': '10', 'deperditions_portes__144': 13.9, 'conso_5_usages_par_m2_ep__144': 124.1, 'cout_auxiliaires__144': 42.3, 'besoin_chauffage__144': 66692.8, 'type_installation_chauffage_n2__144': None, 'emission_ges_ecs_energie_n1__144': 0.0, 'type_generateur_chauffage_principal_ecs__144': 'réseau de chaleur non répertorié ou inconnu', 'type_installation_chauffage__144': 'mixte (collectif-individuel)', 'usage_generateur_n1_installation_n2__144': None, 'identifiant_ban__144': '93005_0068_00010', 'deperditions_baies_vitrees__144': 282.7, 'surface_habitable_immeuble__144': 1282.1, 'appartement_non_visite__144': 0.0, 'cop_generateur_n2_ecs_n1__144': None, 'production_electricite_pv_kwhep_par_an__144': 0.0, 'description_generateur_chauffage_n1_installation_n1__144': 'Raccordement à un réseau de chaleur collectif', 'cout_total_5_usages__144': 605.5, 'conso_auxiliaires_ef__144': 12.3, 'usage_generateur_n1_ecs_n1__144': 'ecs'}]\n",
      "(Background on this error at: https://sqlalche.me/e/20/e3q8)\n"
     ]
    }
   ],
   "source": [
    "for file in os.listdir(csv_folder):\n",
    "    if file.endswith(\".csv\") and file == \"dpe03existant.csv\":\n",
    "        table_name = \"tablefull\"\n",
    "        print(table_name)\n",
    "        csv_path = os.path.join(csv_folder, file)\n",
    "        print(f\"Importing {file} into table {table_name}...\")\n",
    "        try:\n",
    "            for chunk in pd.read_csv(csv_path, sep=',', chunksize=50000, low_memory=False):\n",
    "                chunk.to_sql(table_name, engine, if_exists=\"append\", index=False)\n",
    "        except Exception as e:\n",
    "            print(f\"Erreur pour {file} : {e}\")\n"
   ]
  }
 ],
 "metadata": {
  "kernelspec": {
   "display_name": ".venv2",
   "language": "python",
   "name": "python3"
  },
  "language_info": {
   "codemirror_mode": {
    "name": "ipython",
    "version": 3
   },
   "file_extension": ".py",
   "mimetype": "text/x-python",
   "name": "python",
   "nbconvert_exporter": "python",
   "pygments_lexer": "ipython3",
   "version": "3.13.2"
  }
 },
 "nbformat": 4,
 "nbformat_minor": 2
}
